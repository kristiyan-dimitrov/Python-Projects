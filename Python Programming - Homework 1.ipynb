{
 "cells": [
  {
   "cell_type": "markdown",
   "metadata": {},
   "source": [
    "# Kristiyan Dimitrov \n",
    "## Python/Java Programming - Homework 1"
   ]
  },
  {
   "cell_type": "markdown",
   "metadata": {},
   "source": [
    "### Exercise 1 – Procedural vs Functional Programming "
   ]
  },
  {
   "cell_type": "markdown",
   "metadata": {},
   "source": [
    "### 1. Create a function that will randomly generate a list of N numbers and words. \n",
    "####    Numbers and words count are random and the order is random too."
   ]
  },
  {
   "cell_type": "code",
   "execution_count": 1,
   "metadata": {},
   "outputs": [],
   "source": [
    "#I don't see any way of generating random numbers without this\n",
    "import random"
   ]
  },
  {
   "cell_type": "code",
   "execution_count": 2,
   "metadata": {},
   "outputs": [],
   "source": [
    "#First we will need several supporting functions.\n",
    "#Master function will follow after and will be labelled MASTER"
   ]
  },
  {
   "cell_type": "code",
   "execution_count": 3,
   "metadata": {},
   "outputs": [],
   "source": [
    "#Function to generate a random letter\n",
    "def rnd_letter():\n",
    "    choice=random.randint(1,2) #Picking capital or small letter\n",
    "    if choice==1:\n",
    "        return chr(random.randint(65,90)) #These correspond to the Unicode values letters A-Z\n",
    "    else:\n",
    "        return chr(random.randint(97,121)) #These correspond to the Unicode values for letters a-z "
   ]
  },
  {
   "cell_type": "code",
   "execution_count": 4,
   "metadata": {},
   "outputs": [],
   "source": [
    "#Function to generate random 'word' which is b/w 1 and 10 characters, only letters\n",
    "def rnd_word():\n",
    "    word=str() #Initialize an empty string\n",
    "    choice=random.randint(1,10) # Randomly determine the length of the word\n",
    "    for i in range(choice):\n",
    "        letter=rnd_letter()\n",
    "        word=word+letter\n",
    "    return word        "
   ]
  },
  {
   "cell_type": "code",
   "execution_count": 5,
   "metadata": {},
   "outputs": [],
   "source": [
    "# MASTER\n",
    "def rnd_list(N=1):\n",
    "    \"\"\"Randomly generates a list of N numbers and words.\n",
    "    Parameters: N(int) - Length of randomly generated list. Default N=1.\n",
    "    - The 'words' are strings of a random length b/w 1 and 10\n",
    "    - The 'words' contain only capital and small letters\n",
    "    - The numbers are between -10000 and 10000 inclusive \n",
    "    Returns: List of length N with numbers & words.\"\"\"\n",
    "    \n",
    "    lst=list() #First we need to initialize a list\n",
    "    for i in range(N):\n",
    "        choice=random.randint(1,2) #Choose b/w letter and word\n",
    "        if choice==1:\n",
    "            lst.append(rnd_word())\n",
    "        elif choice==2:\n",
    "            lst.append(random.randint(-10000,10000))\n",
    "        lst\n",
    "    return lst"
   ]
  },
  {
   "cell_type": "markdown",
   "metadata": {},
   "source": [
    "### 2. Create two functions to calculate the desired output as follows:\n",
    "####      a. Procedural code by using loops\n",
    "\n",
    "    "
   ]
  },
  {
   "cell_type": "code",
   "execution_count": 6,
   "metadata": {},
   "outputs": [],
   "source": [
    "#First we initialize a random list of random length b/w 1 and 10 incl.\n",
    "rnd_length=random.randint(1,10)\n",
    "lst=rnd_list(rnd_length)"
   ]
  },
  {
   "cell_type": "code",
   "execution_count": 7,
   "metadata": {},
   "outputs": [],
   "source": [
    "#Function to count number of words & numbers\n",
    "def count_num_word(lst):\n",
    "    words=0\n",
    "    numbers=0\n",
    "    for i in range(len(lst)):\n",
    "        if type(lst[i])==str:\n",
    "            words+=1\n",
    "        elif type(lst[i])==int:\n",
    "            numbers+=1\n",
    "    return print(\"Count of Numbers: \",numbers,\"\\n\",\"Count of words: \",words)"
   ]
  },
  {
   "cell_type": "markdown",
   "metadata": {},
   "source": [
    "  \n",
    "#### b. Functional code by using list comprehension."
   ]
  },
  {
   "cell_type": "code",
   "execution_count": 8,
   "metadata": {},
   "outputs": [],
   "source": [
    "def count_num_word_2(lst):\n",
    "     \n",
    "    words=sum(1 for el in lst if type(el)==str)\n",
    "    numbers=sum(1 for el in lst if type(el)==int)\n",
    "    return print(\"Count of Numbers: \", numbers,\"\\n\",\"Count of words: \",words)"
   ]
  },
  {
   "cell_type": "markdown",
   "metadata": {},
   "source": [
    "### 3. Use TimeIt standard library and matplotlib to present the performance difference among the 2 solutions for different list sizes (N=100, 1000, 10000, 100000)."
   ]
  },
  {
   "cell_type": "code",
   "execution_count": 9,
   "metadata": {},
   "outputs": [],
   "source": [
    "import timeit"
   ]
  },
  {
   "cell_type": "code",
   "execution_count": 40,
   "metadata": {},
   "outputs": [
    {
     "name": "stdout",
     "output_type": "stream",
     "text": [
      "Here are the times for the Procedural Code:  [0.0001486589999331045, 0.0012446860000636661, 0.0146391330000597, 0.12849141399999553]\n",
      "Here are the times for the Functional Code:  [0.00012661900007060467, 0.0010780279999380582, 0.01667514799999026, 0.1862389869999106]\n"
     ]
    }
   ],
   "source": [
    "# Alternative\n",
    "\n",
    "\n",
    "#We define a string variable which contains all necessary functions which need to be timed\n",
    "timesetup='''from __main__ import random, rnd_letter, rnd_word, rnd_list\n",
    "rnd_length=random.randint(1,10)\n",
    "lst=rnd_list(rnd_length)'''\n",
    "\n",
    "#This is the procedural code to be evaluated by timeit\n",
    "code='''\n",
    "words=0\n",
    "numbers=0\n",
    "for i in range(len(lst)):\n",
    "    if type(lst[i])==str:\n",
    "        words+=1\n",
    "    elif type(lst[i])==int:\n",
    "        numbers+=1'''\n",
    "#This is the functional code to be evaluated by timeit\n",
    "code2='''\n",
    "words=sum(1 for el in lst if type(el)==str)\n",
    "numbers=sum(1 for el in lst if type(el)==int)'''\n",
    "\n",
    "loop_times=list()\n",
    "loop_times.append(timeit.timeit(setup=timesetup,stmt=code,number=100))\n",
    "loop_times.append(timeit.timeit(setup=timesetup,stmt=code,number=1000))\n",
    "loop_times.append(timeit.timeit(setup=timesetup,stmt=code,number=10000))\n",
    "loop_times.append(timeit.timeit(setup=timesetup,stmt=code,number=100000))\n",
    "print(\"Here are the times for the Procedural Code: \",loop_times)\n",
    "\n",
    "loop_times_2=list()\n",
    "loop_times_2.append(timeit.timeit(setup=timesetup,stmt=code2,number=100))\n",
    "loop_times_2.append(timeit.timeit(setup=timesetup,stmt=code2,number=1000))\n",
    "loop_times_2.append(timeit.timeit(setup=timesetup,stmt=code2,number=10000))\n",
    "loop_times_2.append(timeit.timeit(setup=timesetup,stmt=code2,number=100000))\n",
    "print(\"Here are the times for the Functional Code: \",loop_times_2)"
   ]
  },
  {
   "cell_type": "code",
   "execution_count": 44,
   "metadata": {
    "scrolled": true
   },
   "outputs": [
    {
     "name": "stdout",
     "output_type": "stream",
     "text": [
      "Populating the interactive namespace from numpy and matplotlib\n"
     ]
    },
    {
     "data": {
      "image/png": "[encoded data removed]",
      "text/plain": [
       "<Figure size 432x288 with 1 Axes>"
      ]
     },
     "metadata": {
      "needs_background": "dark"
     },
     "output_type": "display_data"
    }
   ],
   "source": [
    "#Let's graph the results\n",
    "%pylab inline\n",
    "import matplotlib.pyplot as plt\n",
    "import matplotlib\n",
    "import numpy as np\n",
    "x_axis=[\"2\",\"3\",\"4\",\"5\"]\n",
    "fig=plt.figure()\n",
    "fig.add_axes()\n",
    "ax=fig.add_subplot(111)\n",
    "lines=ax.plot(x_axis,loop_times)\n",
    "lines2=ax.plot(x_axis,loop_times_2)\n",
    "ax.set(ylabel=\"Execution time (Seconds)\",\n",
    "      xlabel=\"10^x degree # of iterations\")\n",
    "title_obj=plt.title(\"Procedural (Blue) vs Functional (Orange) Performence Time\")\n",
    "plt.setp(title_obj,color=\"w\")\n",
    "ax.xaxis.label.set_color(\"w\")\n",
    "ax.tick_params(axis='x', colors='w')\n",
    "ax.yaxis.label.set_color(\"w\")\n",
    "ax.tick_params(axis='y', colors='w')"
   ]
  },
  {
   "cell_type": "code",
   "execution_count": 45,
   "metadata": {},
   "outputs": [],
   "source": [
    "# We see that the functional (orange graph) usually performs better, particularly at a higher number of iterations.\n",
    "# Note that the graph might look different for you.\n",
    "# Everytime I rerun the two code chunks above, I get slightly different graphs."
   ]
  },
  {
   "cell_type": "code",
   "execution_count": 485,
   "metadata": {},
   "outputs": [],
   "source": [
    "#Source: UNICODE documentation: https://www.unicode.org/charts/PDF/U0000.pdf"
   ]
  },
  {
   "cell_type": "markdown",
   "metadata": {},
   "source": [
    "### Exercise 2 – Procedural vs Functional Programming "
   ]
  },
  {
   "cell_type": "code",
   "execution_count": 53,
   "metadata": {},
   "outputs": [],
   "source": [
    "#PLEASE READ: This code chunk prepares all required modules and functions\n",
    "#Just run it once, then run the next one to initialize the menu\n",
    "import statistics as st\n",
    "import numpy as np \n",
    "import matplotlib.pyplot as plt\n",
    "\n",
    "# - Load the data set from exams.csv file (file is comma delimited).\n",
    "def load_data ():\n",
    "    print('''\n",
    "        OUTPUT - Data as Dictionary\n",
    "        \n",
    "        ''')\n",
    "    global file_name, data\n",
    "    file_name = 'exams.csv'\n",
    "    with open(file_name, 'r') as f: #the 'r' option means we are opening with read-only mode\n",
    "        global data\n",
    "        data = f.readlines() \n",
    "    data = [data[i].replace(\"\\n\",\"\") for i in range(len(data))]\n",
    "    data = [data[i].split(',') for i in range(len(data))]\n",
    "    data[0].append(\"Final_Score\")\n",
    "    data[0].append(\"Grade\")\n",
    "    for i in range(1,len(data)):\n",
    "        data[i].append(round(int(data[i][2])*.3+int(data[i][3])*.3+int(data[i][4])*.4,2))\n",
    "    for i in range(1,len(data)):\n",
    "        if data[i][5] >= 90:\n",
    "            data[i].append(\"A\")\n",
    "        elif data[i][5] >= 80:\n",
    "            data[i].append(\"B\")\n",
    "        elif data[i][5] >= 20:\n",
    "            data[i].append(\"C\")\n",
    "        elif data[i][5] >= 10:\n",
    "            data[i].append(\"D\")\n",
    "        else: data[i].append(\"F\")\n",
    "        #Up until now we have formatted and calculated additional data\n",
    "        #Below, we convert the data into a dictionary structure\n",
    "    header=data[0]\n",
    "    my_class={}\n",
    "    for row in range(1,len(data)):\n",
    "        sub_dict=dict()\n",
    "        for column in range(1,len(header)):\n",
    "            sub_dict[str(header[column])]=data[row][column]\n",
    "        my_class[str(data[row][0])]=sub_dict\n",
    "    return my_class\n",
    "\n",
    "# - Print a list of student names, final scores, and letter grades sorted by names.\n",
    "def names():\n",
    "    print('''\n",
    "        OUTPUT - Names, Final Scores, Grades Sorted by Names\n",
    "        \n",
    "        ''')\n",
    "    output=list()\n",
    "    for i in range(1,len(data)):\n",
    "        sublist=list()\n",
    "        sublist.append(data[i][1])\n",
    "        sublist.append(data[i][5])\n",
    "        sublist.append(data[i][6])\n",
    "        output.append(sublist)\n",
    "    output.sort()\n",
    "    print(data[0][1],data[0][5],data[0][6])\n",
    "    return output\n",
    "\n",
    "def score_summary():\n",
    "    global grades\n",
    "    grades=list()\n",
    "    for i in range(1,len(data)):\n",
    "        grades.append(data[i][6])\n",
    "    global final_scores\n",
    "    final_scores=list()\n",
    "    for i in range(1,len(data)):\n",
    "        final_scores.append(data[i][5])\n",
    "    global grades_count\n",
    "    grades_count=[grades.count(i) for i in np.unique(grades)]\n",
    "    global grades_unique\n",
    "    grades_unique=np.unique(grades)\n",
    "    print('''\n",
    "        OUTPUT - Score Summary\n",
    "        \n",
    "        ''')\n",
    "    print(\"Number of students: \",len(data)-1)\n",
    "    global min_score\n",
    "    min_score=data[1][5]\n",
    "    for i in range(2,len(data)):\n",
    "        if data[i][5]<min_score:\n",
    "            min_score=data[i][5]\n",
    "    print(\"Min Score: \",min_score) \n",
    "    global max_score\n",
    "    max_score=data[1][5]\n",
    "    for i in range(2,len(data)):\n",
    "        if data[i][5]>max_score:\n",
    "            max_score=data[i][5]\n",
    "    print(\"Max Score: \",max_score)\n",
    "    global summation\n",
    "    summation=data[1][5]\n",
    "    global mean\n",
    "    for i in range(2,len(data)):\n",
    "        summation=summation+data[i][5]\n",
    "        global mean\n",
    "        mean=round(summation/(len(data)-1),2)\n",
    "    print(\"Mean Score: \",mean)\n",
    "    mode=st.mode(grades)\n",
    "    print(\"Mode Grade: \",mode)\n",
    "    global sd\n",
    "    sd=round(st.stdev(final_scores),2)\n",
    "    print(\"Final Score Standard Deviation: \",sd)\n",
    "    \n",
    "def outliers():\n",
    "    print('''\n",
    "        \n",
    "        OUTPUT - Outliers\n",
    "        \n",
    "        ''')\n",
    "    for i in range(1,len(data)):\n",
    "        if data[i][5]>mean+sd*2:\n",
    "            print(data[i][1],data[i][5])\n",
    "    return\n",
    "\n",
    "def pie():\n",
    "    print('''\n",
    "        OUTPUT - Pie Chart and Grades Distribution\n",
    "        \n",
    "        ''')\n",
    "    plt.pie(grades_count,labels=grades_unique)\n",
    "    print(\"Legend:\")\n",
    "    for i in range(len(grades_unique)):\n",
    "        print(\"Count of \",grades_unique[i],\":\",grades_count[i])\n",
    "    plt.show()\n",
    "    \n",
    "def box_plot():\n",
    "    print('''\n",
    "        OUTPUT - Box Plot Parameters\n",
    "        \n",
    "        ''')\n",
    "    median=st.median(final_scores)\n",
    "    q1=np.quantile(final_scores,.25)\n",
    "    q3=np.quantile(final_scores,.75)\n",
    "    print(\"Min Score: \",min_score)\n",
    "    print(\"Q1: \",q1)\n",
    "    print(\"Median Score: \",median)\n",
    "    print(\"Q3: \",q3)\n",
    "    print(\"Max Score: \",max_score)"
   ]
  },
  {
   "cell_type": "code",
   "execution_count": 54,
   "metadata": {
    "scrolled": false
   },
   "outputs": [
    {
     "name": "stdout",
     "output_type": "stream",
     "text": [
      "Enter command name or number\n",
      "    1) ready data: prepares and presents the data\n",
      "    2) names: Prints out names\n",
      "    3) score summary: Gives Min, Max, Mean, Mode and SD of Scores/Grades\n",
      "    4) outliers: Shows you names and final scores of students more than 2 SD above the mean\n",
      "    5) pie: Plots a pie chart\n",
      "    6) box plot: Gives Min, Q1, Median, Q3, Max\n",
      "    0) exit: Quit this menu\n",
      "    \n",
      "    WARNING: Use command #1 to load the data first! \n",
      "    Otherwise, error message will be displayed.\n",
      "    What is your Command:1\n",
      "\n",
      "        OUTPUT - Data as Dictionary\n",
      "        \n",
      "        \n"
     ]
    },
    {
     "ename": "FileNotFoundError",
     "evalue": "[Errno 2] No such file or directory: 'exams.csv'",
     "output_type": "error",
     "traceback": [
      "\u001b[0;31m---------------------------------------------------------------------------\u001b[0m",
      "\u001b[0;31mFileNotFoundError\u001b[0m                         Traceback (most recent call last)",
      "\u001b[0;32m<ipython-input-54-c8d71ceddfa8>\u001b[0m in \u001b[0;36m<module>\u001b[0;34m\u001b[0m\n\u001b[1;32m     17\u001b[0m \u001b[0;34m\u001b[0m\u001b[0m\n\u001b[1;32m     18\u001b[0m     \u001b[0;32mif\u001b[0m \u001b[0;34m(\u001b[0m\u001b[0mchoice\u001b[0m \u001b[0;34m==\u001b[0m \u001b[0;34m\"ready data\"\u001b[0m \u001b[0;32mor\u001b[0m \u001b[0mchoice\u001b[0m \u001b[0;34m==\u001b[0m \u001b[0;34m\"1\"\u001b[0m\u001b[0;34m)\u001b[0m\u001b[0;34m:\u001b[0m\u001b[0;34m\u001b[0m\u001b[0;34m\u001b[0m\u001b[0m\n\u001b[0;32m---> 19\u001b[0;31m         \u001b[0moutput\u001b[0m\u001b[0;34m=\u001b[0m\u001b[0mload_data\u001b[0m\u001b[0;34m(\u001b[0m\u001b[0;34m)\u001b[0m\u001b[0;34m\u001b[0m\u001b[0;34m\u001b[0m\u001b[0m\n\u001b[0m\u001b[1;32m     20\u001b[0m         \u001b[0;32mfor\u001b[0m \u001b[0mel\u001b[0m \u001b[0;32min\u001b[0m \u001b[0moutput\u001b[0m\u001b[0;34m:\u001b[0m\u001b[0;34m\u001b[0m\u001b[0;34m\u001b[0m\u001b[0m\n\u001b[1;32m     21\u001b[0m             \u001b[0mprint\u001b[0m\u001b[0;34m(\u001b[0m\u001b[0moutput\u001b[0m\u001b[0;34m[\u001b[0m\u001b[0mel\u001b[0m\u001b[0;34m]\u001b[0m\u001b[0;34m)\u001b[0m\u001b[0;34m\u001b[0m\u001b[0;34m\u001b[0m\u001b[0m\n",
      "\u001b[0;32m<ipython-input-53-925f0f99fe43>\u001b[0m in \u001b[0;36mload_data\u001b[0;34m()\u001b[0m\n\u001b[1;32m     13\u001b[0m     \u001b[0;32mglobal\u001b[0m \u001b[0mfile_name\u001b[0m\u001b[0;34m,\u001b[0m \u001b[0mdata\u001b[0m\u001b[0;34m\u001b[0m\u001b[0;34m\u001b[0m\u001b[0m\n\u001b[1;32m     14\u001b[0m     \u001b[0mfile_name\u001b[0m \u001b[0;34m=\u001b[0m \u001b[0;34m'exams.csv'\u001b[0m\u001b[0;34m\u001b[0m\u001b[0;34m\u001b[0m\u001b[0m\n\u001b[0;32m---> 15\u001b[0;31m     \u001b[0;32mwith\u001b[0m \u001b[0mopen\u001b[0m\u001b[0;34m(\u001b[0m\u001b[0mfile_name\u001b[0m\u001b[0;34m,\u001b[0m \u001b[0;34m'r'\u001b[0m\u001b[0;34m)\u001b[0m \u001b[0;32mas\u001b[0m \u001b[0mf\u001b[0m\u001b[0;34m:\u001b[0m \u001b[0;31m#the 'r' option means we are opening with read-only mode\u001b[0m\u001b[0;34m\u001b[0m\u001b[0;34m\u001b[0m\u001b[0m\n\u001b[0m\u001b[1;32m     16\u001b[0m         \u001b[0;32mglobal\u001b[0m \u001b[0mdata\u001b[0m\u001b[0;34m\u001b[0m\u001b[0;34m\u001b[0m\u001b[0m\n\u001b[1;32m     17\u001b[0m         \u001b[0mdata\u001b[0m \u001b[0;34m=\u001b[0m \u001b[0mf\u001b[0m\u001b[0;34m.\u001b[0m\u001b[0mreadlines\u001b[0m\u001b[0;34m(\u001b[0m\u001b[0;34m)\u001b[0m\u001b[0;34m\u001b[0m\u001b[0;34m\u001b[0m\u001b[0m\n",
      "\u001b[0;31mFileNotFoundError\u001b[0m: [Errno 2] No such file or directory: 'exams.csv'"
     ]
    }
   ],
   "source": [
    "# Initialize Program - Just Run this chunk\n",
    "while True: #Ask user for input until the user enters EXIT or QUIT\n",
    "    choice = input('''Enter command name or number\n",
    "    1) ready data: prepares and presents the data\n",
    "    2) names: Prints out names\n",
    "    3) score summary: Gives Min, Max, Mean, Mode and SD of Scores/Grades\n",
    "    4) outliers: Shows you names and final scores of students more than 2 SD above the mean\n",
    "    5) pie: Plots a pie chart\n",
    "    6) box plot: Gives Min, Q1, Median, Q3, Max\n",
    "    0) exit: Quit this menu\n",
    "    \n",
    "    WARNING: Use command #1 to load the data first! \n",
    "    Otherwise, error message will be displayed.\n",
    "    What is your Command:''')\n",
    "    if choice==\"0\" or choice.upper() in ('EXIT', 'QUIT'):\n",
    "        break\n",
    "        \n",
    "    if (choice == \"ready data\" or choice == \"1\"):\n",
    "        output=load_data()\n",
    "        for el in output:\n",
    "            print(output[el])\n",
    "        \n",
    "    if choice == \"names\" or choice==\"2\":\n",
    "        try:\n",
    "            output=names()\n",
    "            for el in range(len(output)):\n",
    "                print(output[el])\n",
    "        except:\n",
    "            print(\"ERROR ENCOUNTERED: Did you load the data? Use function 1\")   \n",
    "    if choice == \"score summary\" or choice==\"3\":\n",
    "        try: \n",
    "            score_summary()  \n",
    "        except:\n",
    "            print(\"ERROR ENCOUNTERED: Did you load the data? Use function 1\")\n",
    "    if choice == \"outliers\" or choice==\"4\":\n",
    "        try:\n",
    "            outliers()\n",
    "        except:\n",
    "            print(\"ERROR ENCOUNTERED: Did you load the data? Use function 1\")\n",
    "    if choice == \"pie\" or choice==\"5\":\n",
    "        try:\n",
    "            pie()\n",
    "        except:\n",
    "            print(\"ERROR ENCOUNTERED: Did you load the data? Use function 1\")\n",
    "    if choice == \"box plot\" or choice== \"6\":\n",
    "        try:\n",
    "            box_plot()\n",
    "        except:\n",
    "            print(\"ERROR ENCOUNTERED: Did you load the data? Use function 1\")"
   ]
  },
  {
   "cell_type": "markdown",
   "metadata": {},
   "source": [
    "### Exercise 3 – NumPy.Random - Extension library from PyPI "
   ]
  },
  {
   "cell_type": "markdown",
   "metadata": {},
   "source": [
    "Pick an extension library from PyPI or other sources (something of interest to you). Summarize the functionality provided by the library (one paragraph) and show a usage example.\n",
    "Document step-by-step how to run the example provided.\n"
   ]
  },
  {
   "cell_type": "code",
   "execution_count": null,
   "metadata": {},
   "outputs": [],
   "source": [
    "#I decided to find out how to generate random numbers from a known distribution\n",
    "#I Googled and found out that I can do this with the numpy.random package.\n",
    "#I installed numpy on my computer via the Anaconda GUI. \n",
    "#You could also do this in Terminal (on Mac): conda install numpy"
   ]
  },
  {
   "cell_type": "code",
   "execution_count": 9,
   "metadata": {},
   "outputs": [],
   "source": [
    "#First we load the module\n",
    "import numpy.random as npr"
   ]
  },
  {
   "cell_type": "code",
   "execution_count": null,
   "metadata": {},
   "outputs": [],
   "source": [
    "#The most common numbers we deal with in statistics are normally distributed.\n",
    "#So, I will look at generating random numbers from a normal distribution\n",
    "#You can see the help file for the relevant function:\n",
    "?npr.normal"
   ]
  },
  {
   "cell_type": "code",
   "execution_count": 12,
   "metadata": {
    "scrolled": true
   },
   "outputs": [
    {
     "data": {
      "text/plain": [
       "array([-0.27617903,  1.18397694, -1.65886486, -1.02754947,  0.30967805,\n",
       "       -1.20369571, -0.99631545,  0.70454362, -0.32035851,  0.21994026,\n",
       "        0.33650139,  0.95385073, -0.88928913,  0.97536704, -0.55322455,\n",
       "        2.18101812,  0.5038848 , -1.79974575, -0.24715079, -1.18075031,\n",
       "       -0.10524015,  1.32815063, -1.04258263, -0.39253218, -0.05853363,\n",
       "       -1.02863242,  0.28244072, -1.11452675,  1.26796674,  0.01002691,\n",
       "       -0.65696269,  1.68078623, -0.52317095,  1.2327562 ,  0.10288496,\n",
       "       -0.76280742,  1.23760699,  0.43139857, -0.90847537,  1.57697971,\n",
       "       -0.31037904, -0.1396167 , -1.94588758, -0.06337632,  0.04933427,\n",
       "        0.1291843 , -0.34875757,  0.56022667,  0.09625509,  0.64495616,\n",
       "        1.64615258, -0.91562551, -0.79683625, -0.02568918, -1.04054793,\n",
       "        0.68783943,  0.01542903,  0.23818424,  1.85257586,  0.58264065,\n",
       "       -1.59271947,  0.26305547, -2.12062059, -0.69342239, -0.89310519,\n",
       "        0.34755116,  0.07342412,  0.11677087, -0.0426939 , -0.46990067,\n",
       "        0.88905688,  0.2739932 ,  0.43691647,  0.7011141 , -0.54733335,\n",
       "        0.36809796,  0.3202303 ,  0.34701037, -1.00415451, -0.07516898,\n",
       "        0.03871878, -2.07943335,  1.11986184, -0.51331737, -1.66548001,\n",
       "        0.21284399,  0.35166316, -0.79840367,  1.76271429,  1.54154883,\n",
       "       -0.01768606, -0.13405068, -0.38939923,  0.43047333,  2.5208421 ,\n",
       "        0.47666161, -1.18806683, -1.78517473, -1.20362302,  0.23125153])"
      ]
     },
     "execution_count": 12,
     "metadata": {},
     "output_type": "execute_result"
    }
   ],
   "source": [
    "#Let's generate some random numbers from the standard normal distribution:\n",
    "numbers=npr.normal(0,1,100)\n",
    "numbers"
   ]
  },
  {
   "cell_type": "code",
   "execution_count": 44,
   "metadata": {
    "scrolled": true
   },
   "outputs": [
    {
     "name": "stdout",
     "output_type": "stream",
     "text": [
      "[7, 3, 16, 13, 19, 22, 7, 7, 4, 2]\n",
      "[-2.120620587805528, -1.656474318806471, -1.192328049807414, -0.7281817808083568, -0.26403551180929985, 0.20011075718975713, 0.6642570261888143, 1.128403295187871, 1.5925495641869283, 2.056695833185985, 2.520842102185042]\n"
     ]
    }
   ],
   "source": [
    "#The below two commands give us an idea that the random values we generated are indeed centered around the mean 0\n",
    "print(list(np.histogram(numbers)[0])) #The count of values\n",
    "print(list(np.histogram(numbers)[1])) #The buckets dividing the values"
   ]
  },
  {
   "cell_type": "code",
   "execution_count": 52,
   "metadata": {},
   "outputs": [
    {
     "name": "stdout",
     "output_type": "stream",
     "text": [
      "[ 0.19500779 -0.20155798 -6.07682923  3.56327778  0.15458044 -2.01142213\n",
      "  0.51301697  0.44153392 -1.77487377  1.15951375 -2.44751784 -0.4586231\n",
      "  0.37055384  0.29279088  1.50609532 -2.45434311 -1.68988011 -1.36811922\n",
      " -0.98148024  0.26625079 -0.3549386   0.34836547  0.66597906  0.03647389\n",
      " -1.07654089 -0.03082316  1.09899256 -0.49402595  2.10370155 -3.15111113\n",
      "  0.45688927 -0.44407943 -0.25164658  0.39960665  0.77701911 -0.71061923\n",
      " -0.73792593 -0.23039353  0.198502   -1.02802276  0.5113658   0.35483431\n",
      " -1.75056447  0.43821559 -1.62631406 -0.03895764 -0.7504885  -0.2049342\n",
      " -1.9430076   0.15717347 -5.66064267  3.8940863  -0.56910599 -0.56076092\n",
      " -0.74825505 -0.85945117 -0.21386957  0.09934985 -0.13621525 -1.13173077\n",
      "  0.21963105 -0.67928063  1.51399522  1.04268006 -2.47323457 -0.9756835\n",
      " -0.22382772 -3.60119009 -0.28162189  0.1720566  -0.6604823   2.00608224\n",
      " -1.13873708 -8.42875283 -3.42688177  3.44128079  0.01851301  1.793635\n",
      "  0.17309654  0.83257379 -0.72986326  5.11024821  2.33939423 -0.70785951\n",
      "  0.24965244 -0.65981328  1.14862747  2.74162874  0.81155185 -0.34091915\n",
      "  0.64640777  0.41459591 -0.55273326 -0.26249988 -1.81124474 -1.15579816\n",
      "  0.45501207 -4.88277699 -1.85538088  1.44240864]\n"
     ]
    }
   ],
   "source": [
    "#Here are some additional distributions we often work with:\n",
    "# T-Distribution\n",
    "print(npr.standard_t(2,100)) #The first argument is the degrees of freedom, the second is the number of numbers to be generated"
   ]
  },
  {
   "cell_type": "code",
   "execution_count": 51,
   "metadata": {},
   "outputs": [
    {
     "name": "stdout",
     "output_type": "stream",
     "text": [
      "[2.65334459 0.20007039 5.93700352 2.22316457 3.68753537 0.48995395\n",
      " 1.5840014  2.72103198 1.65253377 1.37279639 2.44943376 2.25930699\n",
      " 0.30649797 0.21377674 0.05432013 1.65659728 2.2082203  4.17917997\n",
      " 3.21820303 0.44678295 0.62015164 1.43591288 0.108876   3.34137116\n",
      " 3.36585101 1.93541791 5.93536332 0.90704431 0.40796508 0.81341087\n",
      " 0.09741978 1.39925772 0.92969888 2.19953753 0.13249575 0.16428787\n",
      " 0.91817274 0.67880238 0.14521017 5.45032015 2.15703616 1.84361159\n",
      " 5.05988183 0.31699529 0.67201381 0.35198826 2.41000933 1.65302911\n",
      " 5.44721887 5.16060709 2.83915989 0.528933   2.52952938 0.29451412\n",
      " 0.07140331 2.04159742 2.00110454 0.09486848 3.58098719 4.29652129\n",
      " 1.03302792 0.69761324 1.43347236 4.59387164 0.60069926 1.04816338\n",
      " 3.35000692 0.49378812 2.14354177 4.05440628 2.66944965 1.45078644\n",
      " 3.35825014 1.16786199 4.61898944 7.54277995 1.01313656 0.55363761\n",
      " 0.9070301  0.49294303 0.14433386 2.41065134 2.9841887  3.05051885\n",
      " 8.07237316 0.14456034 6.3169764  0.72381425 4.70443136 0.01272447\n",
      " 2.18125606 2.97610169 0.41138969 4.80795221 2.97652061 5.5378603\n",
      " 0.44389891 0.78309127 0.66928841 1.33021513]\n"
     ]
    }
   ],
   "source": [
    "# Chi-Square Distribution\n",
    "print(npr.chisquare(2,100)) #The first argument is the degrees of freedom, the second is the number of numbers to be generated"
   ]
  },
  {
   "cell_type": "code",
   "execution_count": 50,
   "metadata": {},
   "outputs": [
    {
     "name": "stdout",
     "output_type": "stream",
     "text": [
      "[7.13627362e-01 6.43892454e+00 2.86113130e-01 1.54333302e+00\n",
      " 1.39263436e-01 1.98794701e+00 3.06533875e-01 5.54740660e-01\n",
      " 1.51463836e+01 7.11392929e+00 3.70759063e+00 2.50574507e-01\n",
      " 1.74098450e+00 3.24468524e-02 3.13581977e-02 1.41480591e+01\n",
      " 1.91885458e+00 7.52292894e+00 3.65521879e-02 2.43892341e+01\n",
      " 5.68119085e-01 2.39889929e-01 2.32420883e+00 1.05810049e-01\n",
      " 6.08767249e+00 7.80548449e-01 1.69797724e+00 3.55168887e+00\n",
      " 1.04380423e-01 1.20203284e-01 1.03443751e+00 8.84870427e-01\n",
      " 9.74671948e-03 3.19023710e+00 4.77547297e+00 4.27954136e+00\n",
      " 8.75432881e-01 1.38445212e-01 9.06276384e-02 3.85175855e-02\n",
      " 3.43858380e-01 6.97549225e-02 7.05184247e-01 1.15930355e+01\n",
      " 4.98896815e+00 1.54108769e+00 1.19548132e+00 1.34183451e-01\n",
      " 1.01419752e+00 3.77617201e-01 6.73476645e+00 2.43378701e-01\n",
      " 4.69769828e-01 2.44047523e+00 5.47707758e+00 4.92709886e-02\n",
      " 9.48070405e-01 1.86521059e+00 1.55878318e+00 1.38100709e-02\n",
      " 2.28385249e-01 1.38225857e+00 2.07237613e+01 4.32494863e-01\n",
      " 1.99974102e+01 1.74998951e+00 1.85317517e+00 8.96022546e-01\n",
      " 1.43617521e+00 3.16726130e+01 1.12884459e+00 7.29907022e-01\n",
      " 1.37170723e+00 7.57159034e-01 2.34864377e+00 1.41563306e+00\n",
      " 1.06306430e+00 9.58519989e-01 6.60987408e-01 1.51608056e+00\n",
      " 4.44279481e+00 4.97137438e-01 1.91798631e-01 2.09148645e+01\n",
      " 1.54428321e+01 1.59820483e+00 1.25716769e+00 1.15022839e+00\n",
      " 4.80690183e+00 3.67553987e+00 3.19582409e+00 3.67138667e+01\n",
      " 8.97171982e-01 1.14821721e-01 5.87558949e+00 4.01550251e-01\n",
      " 1.26560426e-01 8.00350997e+00 4.37407719e+00 4.06924758e+00]\n"
     ]
    }
   ],
   "source": [
    "# F-Distribution\n",
    "print(npr.f(2,2,100)) #arguments are (in order): df for numerator, df for denominator, number of numbers to be generated"
   ]
  }
 ],
 "metadata": {
  "kernelspec": {
   "display_name": "Python 3",
   "language": "python",
   "name": "python3"
  },
  "language_info": {
   "codemirror_mode": {
    "name": "ipython",
    "version": 3
   },
   "file_extension": ".py",
   "mimetype": "text/x-python",
   "name": "python",
   "nbconvert_exporter": "python",
   "pygments_lexer": "ipython3",
   "version": "3.7.3"
  }
 },
 "nbformat": 4,
 "nbformat_minor": 2
}
